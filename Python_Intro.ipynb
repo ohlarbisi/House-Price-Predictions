{
  "nbformat": 4,
  "nbformat_minor": 0,
  "metadata": {
    "colab": {
      "provenance": []
    },
    "kernelspec": {
      "name": "python3",
      "display_name": "Python 3"
    },
    "language_info": {
      "name": "python"
    }
  },
  "cells": [
    {
      "cell_type": "markdown",
      "source": [
        "# Print and input function"
      ],
      "metadata": {
        "id": "PEMC0NJJJ1XR"
      }
    },
    {
      "cell_type": "code",
      "source": [
        "print('NPower Canada')\n",
        "a = input(\"what's your name?\")\n",
        "print(f\"Hello {a}\")\n",
        "type(a)"
      ],
      "metadata": {
        "id": "xSYL4HwCJ7A5"
      },
      "execution_count": null,
      "outputs": []
    },
    {
      "cell_type": "markdown",
      "source": [
        "# Variables"
      ],
      "metadata": {
        "id": "mV_uY0Ut2qwP"
      }
    },
    {
      "cell_type": "code",
      "source": [
        "a = 10\n",
        "b = 10.1\n",
        "c = \"NPower Canada\"\n",
        "d = False\n",
        "e = int(input(\"What's your name?\"))\n",
        "print(f\"Hello {e}\")\n",
        "print(type(a))\n",
        "print(type(b))\n",
        "print(type(c))\n",
        "print(type(d))\n",
        "print(type(e))"
      ],
      "metadata": {
        "id": "d4l6lmJP2zAG"
      },
      "execution_count": null,
      "outputs": []
    },
    {
      "cell_type": "markdown",
      "source": [
        "# Arithmetic operators"
      ],
      "metadata": {
        "id": "RhvYPktnKi3d"
      }
    },
    {
      "cell_type": "code",
      "source": [
        "a = 11\n",
        "b = 8\n",
        "c = a+b\n",
        "print(c)\n",
        "print(a-b)\n",
        "print(a*b)\n",
        "print(a/b)\n",
        "print(a//b)\n",
        "print(a%b)\n",
        "print(a**b)"
      ],
      "metadata": {
        "id": "VNjfSDIN2vyu",
        "colab": {
          "base_uri": "https://localhost:8080/"
        },
        "outputId": "0e228b91-db6d-47e1-f548-4066ae1fa178"
      },
      "execution_count": null,
      "outputs": [
        {
          "output_type": "stream",
          "name": "stdout",
          "text": [
            "19\n",
            "3\n",
            "88\n",
            "1.375\n",
            "1\n",
            "3\n",
            "214358881\n"
          ]
        }
      ]
    },
    {
      "cell_type": "markdown",
      "source": [
        "# Operator Precedence"
      ],
      "metadata": {
        "id": "m0yjZH8koRnp"
      }
    },
    {
      "cell_type": "code",
      "source": [
        "a = (13-2)*5\n",
        "print(a)"
      ],
      "metadata": {
        "id": "zDrXjNeSoXvW",
        "colab": {
          "base_uri": "https://localhost:8080/"
        },
        "outputId": "848a5435-9de7-465e-b28e-ca83bf2cc092"
      },
      "execution_count": null,
      "outputs": [
        {
          "output_type": "stream",
          "name": "stdout",
          "text": [
            "55\n"
          ]
        }
      ]
    },
    {
      "cell_type": "markdown",
      "source": [
        "# Comparison operators"
      ],
      "metadata": {
        "id": "O0ydzj8JoscN"
      }
    },
    {
      "cell_type": "code",
      "source": [
        "a = 5\n",
        "#a = 3\n",
        "b = 3\n",
        "print(a>b)\n",
        "print(a<b)\n",
        "print(a==b)\n",
        "print(a!=b)"
      ],
      "metadata": {
        "id": "LhmPdXq4ovQM",
        "colab": {
          "base_uri": "https://localhost:8080/"
        },
        "outputId": "67ed0a07-c832-4dab-c9a7-662a13300a3d"
      },
      "execution_count": null,
      "outputs": [
        {
          "output_type": "stream",
          "name": "stdout",
          "text": [
            "True\n",
            "False\n",
            "False\n",
            "True\n"
          ]
        }
      ]
    },
    {
      "cell_type": "markdown",
      "source": [
        "# Logical Operators"
      ],
      "metadata": {
        "id": "DfR29KuH0Ptg"
      }
    },
    {
      "cell_type": "code",
      "source": [
        "a = 5\n",
        "b = 7\n",
        "c = 6\n",
        "print(a<b and a<c)\n",
        "print(a>b and a<c)\n",
        "print(a>b or a<c)\n",
        "print(a>b or a>c)"
      ],
      "metadata": {
        "id": "WEZaOc1GCkuE",
        "colab": {
          "base_uri": "https://localhost:8080/"
        },
        "outputId": "95031658-8b2b-440d-9041-e5fffe75a576"
      },
      "execution_count": null,
      "outputs": [
        {
          "output_type": "stream",
          "name": "stdout",
          "text": [
            "True\n",
            "False\n",
            "True\n",
            "False\n"
          ]
        }
      ]
    },
    {
      "cell_type": "markdown",
      "source": [
        "# If statements"
      ],
      "metadata": {
        "id": "XtKRofd1Dq6s"
      }
    },
    {
      "cell_type": "code",
      "source": [
        "a = 11\n",
        "b = 10\n",
        "c = 6\n",
        "if (a>=b) and (a>=c):\n",
        "  print(\"A is the largest\")\n",
        "  print(a)\n",
        "elif (b>=a) and (b>=c):\n",
        "  print(b)\n",
        "else:\n",
        "  print(\"C is the largest\")\n",
        "print(max(a,b,c))"
      ],
      "metadata": {
        "id": "nmhkoBQ3Dtm0",
        "colab": {
          "base_uri": "https://localhost:8080/"
        },
        "outputId": "55b55b4f-db9d-40b5-afc8-bca69f685ca5"
      },
      "execution_count": 1,
      "outputs": [
        {
          "output_type": "stream",
          "name": "stdout",
          "text": [
            "A is the largest\n",
            "11\n",
            "11\n"
          ]
        }
      ]
    },
    {
      "cell_type": "markdown",
      "source": [
        "# Activity"
      ],
      "metadata": {
        "id": "4DM0LfLsF9Ej"
      }
    },
    {
      "cell_type": "code",
      "source": [
        "grade = int(input(\"Please enter your Marks (0-100) here: \"))\n",
        "if (grade>90): #91 - 100\n",
        "  print(\"A Grade\")\n",
        "elif ((grade<=90) and (grade>70)): #71 - 90\n",
        "  print(\"B Grade\")\n",
        "elif ((grade<=70) and (grade>50)): #51 - 70\n",
        "  print(\"C Grade\")\n",
        "else: # 0 - 50\n",
        "  print(\"F Grade\")\n",
        "type(grade)"
      ],
      "metadata": {
        "id": "EdWw_9xPF_cn",
        "colab": {
          "base_uri": "https://localhost:8080/"
        },
        "outputId": "193b6df8-dcb7-4b51-9299-7febde491060"
      },
      "execution_count": null,
      "outputs": [
        {
          "output_type": "stream",
          "name": "stdout",
          "text": [
            "Please enter your Marks (0-100) here: 56\n",
            "C Grade\n"
          ]
        },
        {
          "output_type": "execute_result",
          "data": {
            "text/plain": [
              "int"
            ]
          },
          "metadata": {},
          "execution_count": 15
        }
      ]
    },
    {
      "cell_type": "markdown",
      "source": [
        "# Loops"
      ],
      "metadata": {
        "id": "oZksje1-I7kf"
      }
    },
    {
      "cell_type": "code",
      "source": [
        "a = [1,2,3,\"Ishan\"]\n",
        "for i in a:\n",
        "  print(i)\n",
        "print(\"    \")\n",
        "for i in range (1,11,3):\n",
        "  print(i)\n",
        "print(\"    \")\n",
        "i = 1\n",
        "while i<7:\n",
        "  print(i)\n",
        "  i+=1 #i = i + 1"
      ],
      "metadata": {
        "id": "2UuJqiSrI9J-",
        "colab": {
          "base_uri": "https://localhost:8080/"
        },
        "outputId": "5c0e0a44-825f-46ee-a383-a8e61c0a841d"
      },
      "execution_count": null,
      "outputs": [
        {
          "output_type": "stream",
          "name": "stdout",
          "text": [
            "1\n",
            "2\n",
            "3\n",
            "Ishan\n",
            "    \n",
            "1\n",
            "4\n",
            "7\n",
            "10\n",
            "    \n",
            "1\n",
            "2\n",
            "3\n",
            "4\n",
            "5\n",
            "6\n"
          ]
        }
      ]
    },
    {
      "cell_type": "markdown",
      "source": [
        "# Lists"
      ],
      "metadata": {
        "id": "WZ2RW9Z1LU-q"
      }
    },
    {
      "cell_type": "code",
      "source": [
        "a = [1,2,3,4,\"Ishan\",\"Ishan\"]\n",
        "print(a[4])\n",
        "print(a[-2])\n",
        "a.append(\"Jay\") #adds \"Jay\" string to the end of list\n",
        "print(a)\n",
        "a.insert(8, \"Ishan\") #insers value at specific index\n",
        "print(a)\n",
        "a.remove(\"Ishan\") #removes 2 int from the list\n",
        "print(a)\n",
        "a.pop() #removes last entry in list\n",
        "print(a.index(\"Jay\")) #returns the index of string \"Ishan\"\n",
        "b = a.copy() #copies the list a to new variable b\n",
        "print(b)"
      ],
      "metadata": {
        "id": "GGW21T9GLZe3",
        "colab": {
          "base_uri": "https://localhost:8080/"
        },
        "outputId": "a06439f7-ef45-4e58-845f-9e8d49e8512c"
      },
      "execution_count": null,
      "outputs": [
        {
          "output_type": "stream",
          "name": "stdout",
          "text": [
            "Ishan\n",
            "Ishan\n",
            "[1, 2, 3, 4, 'Ishan', 'Ishan', 'Jay']\n",
            "[1, 2, 3, 4, 'Ishan', 'Ishan', 'Jay', 'Ishan']\n",
            "[1, 2, 3, 4, 'Ishan', 'Jay', 'Ishan']\n",
            "5\n",
            "[1, 2, 3, 4, 'Ishan', 'Jay']\n"
          ]
        }
      ]
    },
    {
      "cell_type": "markdown",
      "source": [
        "# Tuples"
      ],
      "metadata": {
        "id": "ewzfrx04N_Im"
      }
    },
    {
      "cell_type": "code",
      "source": [
        "values = [1, 2, 3]\n",
        "x, y, z = values\n",
        "print(values[0:1])\n",
        "print(values)\n",
        "print(f\"X = {x},Y = {y},Z = {z}\")\n",
        "tup3 = \"a\", \"b\", \"c\", \"d\"\n",
        "print(type(tup3))"
      ],
      "metadata": {
        "id": "HmzxK7zVNVTP",
        "colab": {
          "base_uri": "https://localhost:8080/"
        },
        "outputId": "94fb5adf-43c2-495e-b3e5-205afe417985"
      },
      "execution_count": null,
      "outputs": [
        {
          "output_type": "stream",
          "name": "stdout",
          "text": [
            "[1]\n",
            "[1, 2, 3]\n",
            "X = 1,Y = 2,Z = 3\n",
            "<class 'tuple'>\n"
          ]
        }
      ]
    },
    {
      "cell_type": "markdown",
      "source": [
        "# Dictionaries"
      ],
      "metadata": {
        "id": "swwVH7NdOQd9"
      }
    },
    {
      "cell_type": "code",
      "source": [
        "d = {\"Central_A\": [\"Priya\",1], \"Central_B\": \"Ishan\"}\n",
        "print(f'Instructor at Central A is {d[\"Central_A\"][1]}')\n",
        "t = d[\"Central_A\"]\n",
        "print(t[0])\n",
        "print(f'''Instructor at Central B is {d[\"Central_B\"]}''')\n",
        "d[\"Central_A\"]"
      ],
      "metadata": {
        "id": "xvDQ3W7kOUR4",
        "colab": {
          "base_uri": "https://localhost:8080/"
        },
        "outputId": "8acda84a-284c-4798-825d-81b920448d87"
      },
      "execution_count": null,
      "outputs": [
        {
          "output_type": "stream",
          "name": "stdout",
          "text": [
            "Instructor at Central A is 1\n",
            "Priya\n",
            "Instructor at Central B is Ishan\n"
          ]
        },
        {
          "output_type": "execute_result",
          "data": {
            "text/plain": [
              "['Priya', 1]"
            ]
          },
          "metadata": {},
          "execution_count": 32
        }
      ]
    },
    {
      "cell_type": "markdown",
      "source": [
        "#Sets"
      ],
      "metadata": {
        "id": "u0ccHB9FmjFW"
      }
    },
    {
      "cell_type": "code",
      "source": [
        "s1 = {\"John\", \"Dutch\", \"Arthur\"}\n",
        "s2 = {\"Micah\", \"Dutch\"}\n",
        "print(s1.intersection(s2))\n",
        "print(f\"Symmetric difference is {s1.symmetric_difference(s2)}\")\n",
        "s3 = (s2.difference(s1))\n",
        "s4 = (s1.difference(s2))\n",
        "print(type(s3))\n",
        "print(f\"s3 is {s3}\")\n",
        "print(f\"s4 is {s4}\")\n",
        "s5 = (s3.union(s4))\n",
        "print(f\"Union of s3 and s4 is{s5}\")\n",
        "print(s1.union(s2))"
      ],
      "metadata": {
        "colab": {
          "base_uri": "https://localhost:8080/"
        },
        "id": "D_PVZg4Umipx",
        "outputId": "39d4613c-8297-476e-9570-9619fe54f5ec"
      },
      "execution_count": null,
      "outputs": [
        {
          "output_type": "stream",
          "name": "stdout",
          "text": [
            "{'Dutch'}\n",
            "Symmetric difference is {'John', 'Arthur', 'Micah'}\n",
            "<class 'set'>\n",
            "s3 is {'Micah'}\n",
            "s4 is {'John', 'Arthur'}\n",
            "Union of s3 and s4 is{'John', 'Arthur', 'Micah'}\n",
            "{'John', 'Arthur', 'Micah', 'Dutch'}\n"
          ]
        }
      ]
    },
    {
      "cell_type": "markdown",
      "source": [
        "# Functions"
      ],
      "metadata": {
        "id": "mai20wtRQeaM"
      }
    },
    {
      "cell_type": "code",
      "source": [
        "def marks (grade):\n",
        "  if (grade>90):\n",
        "    print(\"A Grade\")\n",
        "  elif ((grade<=90) and (grade>70)):\n",
        "    print(\"B Grade\")\n",
        "  elif ((grade<=70) and (grade>50)):\n",
        "    print(\"C Grade\")\n",
        "  else:\n",
        "    print(\"F Grade\")\n",
        "\n",
        "\n",
        "d = {\"Ishan\": 70, \"Daria\": 91, \"Brandon\": 50}\n",
        "a = list(d.values())\n",
        "print(a)\n",
        "for i in a:\n",
        "  marks(i)"
      ],
      "metadata": {
        "id": "CQLJ-t4fQgwi",
        "colab": {
          "base_uri": "https://localhost:8080/"
        },
        "outputId": "90051674-a08c-401a-addb-49954e3abb9e"
      },
      "execution_count": null,
      "outputs": [
        {
          "output_type": "stream",
          "name": "stdout",
          "text": [
            "[70, 91, 50]\n",
            "C Grade\n",
            "A Grade\n",
            "F Grade\n"
          ]
        }
      ]
    },
    {
      "cell_type": "markdown",
      "source": [
        "# Class"
      ],
      "metadata": {
        "id": "Cwq39pP-ROQZ"
      }
    },
    {
      "cell_type": "code",
      "source": [
        "class Bankacct:\n",
        "  def __init__(self, name, money):\n",
        "    self.n = name\n",
        "    self.m = money\n",
        "    print(f\"Hello! {self.n}, your balance is {self.m}$\")\n",
        "\n",
        "  def add (self, amt):\n",
        "    self.m = self.m + amt\n",
        "    print(f\"{self.n} your New Balance is {self.m}$\")\n",
        "\n",
        "ac1 = Bankacct(\"Lenny\", 10)\n",
        "ac2 = Bankacct(\"Arthur\", 15)\n",
        "ac1.add(20)\n",
        "ac1.add(30)\n",
        "ac2.add(10)"
      ],
      "metadata": {
        "colab": {
          "base_uri": "https://localhost:8080/"
        },
        "id": "R0pncQG4RSkA",
        "outputId": "ad411f30-5e5a-41ea-898d-6d642f6471dc"
      },
      "execution_count": null,
      "outputs": [
        {
          "output_type": "stream",
          "name": "stdout",
          "text": [
            "Hello! Lenny, your balance is 10$\n",
            "Hello! Arthur, your balance is 15$\n",
            "Lenny your New Balance is 30$\n",
            "Lenny your New Balance is 60$\n",
            "Arthur your New Balance is 25$\n"
          ]
        }
      ]
    }
  ]
}