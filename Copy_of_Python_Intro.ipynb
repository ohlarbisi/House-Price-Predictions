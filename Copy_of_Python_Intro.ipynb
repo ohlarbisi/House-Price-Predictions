{
  "nbformat": 4,
  "nbformat_minor": 0,
  "metadata": {
    "colab": {
      "provenance": [],
      "include_colab_link": true
    },
    "kernelspec": {
      "name": "python3",
      "display_name": "Python 3"
    },
    "language_info": {
      "name": "python"
    }
  },
  "cells": [
    {
      "cell_type": "markdown",
      "metadata": {
        "id": "view-in-github",
        "colab_type": "text"
      },
      "source": [
        "<a href=\"https://colab.research.google.com/github/ohlarbisi/House-Price-Predictions/blob/main/Copy_of_Python_Intro.ipynb\" target=\"_parent\"><img src=\"https://colab.research.google.com/assets/colab-badge.svg\" alt=\"Open In Colab\"/></a>"
      ]
    },
    {
      "cell_type": "markdown",
      "source": [
        "# Print and input function"
      ],
      "metadata": {
        "id": "PEMC0NJJJ1XR"
      }
    },
    {
      "cell_type": "code",
      "source": [
        "a = \"complexity\"\n",
        "len(a)"
      ],
      "metadata": {
        "colab": {
          "base_uri": "https://localhost:8080/"
        },
        "id": "FDt63LmC8V0R",
        "outputId": "628f2844-7376-4ed5-9155-660e45f130e0"
      },
      "execution_count": null,
      "outputs": [
        {
          "output_type": "execute_result",
          "data": {
            "text/plain": [
              "10"
            ]
          },
          "metadata": {},
          "execution_count": 1
        }
      ]
    },
    {
      "cell_type": "code",
      "source": [
        "max(a)"
      ],
      "metadata": {
        "colab": {
          "base_uri": "https://localhost:8080/",
          "height": 35
        },
        "id": "8KBL_qZp8wsh",
        "outputId": "f4898372-a874-409e-f8ff-4983d61b080f"
      },
      "execution_count": null,
      "outputs": [
        {
          "output_type": "execute_result",
          "data": {
            "text/plain": [
              "'y'"
            ],
            "application/vnd.google.colaboratory.intrinsic+json": {
              "type": "string"
            }
          },
          "metadata": {},
          "execution_count": 2
        }
      ]
    },
    {
      "cell_type": "code",
      "source": [
        "min(a)"
      ],
      "metadata": {
        "colab": {
          "base_uri": "https://localhost:8080/",
          "height": 35
        },
        "id": "mLhAKC8381wi",
        "outputId": "ebcc9546-5ee0-4408-c454-1c83260c2a3d"
      },
      "execution_count": null,
      "outputs": [
        {
          "output_type": "execute_result",
          "data": {
            "text/plain": [
              "'c'"
            ],
            "application/vnd.google.colaboratory.intrinsic+json": {
              "type": "string"
            }
          },
          "metadata": {},
          "execution_count": 3
        }
      ]
    },
    {
      "cell_type": "code",
      "source": [
        "print(\"NPower Canada\")\n",
        "a = input(\"what's your name? \")\n",
        "print(f\"Hello {a}\")\n",
        "type(a)"
      ],
      "metadata": {
        "colab": {
          "base_uri": "https://localhost:8080/"
        },
        "id": "xSYL4HwCJ7A5",
        "outputId": "93501f57-bd3f-4cc5-a81c-8912e42c61ea"
      },
      "execution_count": null,
      "outputs": [
        {
          "output_type": "stream",
          "name": "stdout",
          "text": [
            "NPower Canada\n",
            "what's your name? Ishan\n",
            "Hello Ishan\n"
          ]
        },
        {
          "output_type": "execute_result",
          "data": {
            "text/plain": [
              "str"
            ]
          },
          "metadata": {},
          "execution_count": 3
        }
      ]
    },
    {
      "cell_type": "markdown",
      "source": [
        "# Variables"
      ],
      "metadata": {
        "id": "mV_uY0Ut2qwP"
      }
    },
    {
      "cell_type": "code",
      "source": [
        "a = 10\n",
        "b = 10.1\n",
        "c = \"NPower Canada\"\n",
        "d = False\n",
        "e = int(input(\"What's your name?\"))\n",
        "print(f\"Hello {e}\")\n",
        "print(type(a))\n",
        "print(type(b))\n",
        "print(type(c))\n",
        "print(type(d))\n",
        "print(type(e))"
      ],
      "metadata": {
        "id": "d4l6lmJP2zAG",
        "colab": {
          "base_uri": "https://localhost:8080/"
        },
        "outputId": "426b42e8-b9ed-4d03-9116-cb5f90017a55"
      },
      "execution_count": null,
      "outputs": [
        {
          "output_type": "stream",
          "name": "stdout",
          "text": [
            "What's your name?11\n",
            "Hello 11\n",
            "<class 'int'>\n",
            "<class 'float'>\n",
            "<class 'str'>\n",
            "<class 'bool'>\n",
            "<class 'int'>\n"
          ]
        }
      ]
    },
    {
      "cell_type": "markdown",
      "source": [
        "# Arithmetic operators"
      ],
      "metadata": {
        "id": "RhvYPktnKi3d"
      }
    },
    {
      "cell_type": "code",
      "source": [
        "a = 11\n",
        "b = 8\n",
        "c = a+b\n",
        "print(c)\n",
        "print(a-b)\n",
        "print(a*b)\n",
        "print(a/b)\n",
        "print(a//b)\n",
        "print(a%b)\n",
        "print(a**b)"
      ],
      "metadata": {
        "id": "VNjfSDIN2vyu",
        "colab": {
          "base_uri": "https://localhost:8080/"
        },
        "outputId": "e16741e8-f6b6-4dd8-bf27-1aff3035131e"
      },
      "execution_count": null,
      "outputs": [
        {
          "output_type": "stream",
          "name": "stdout",
          "text": [
            "19\n",
            "3\n",
            "88\n",
            "1.375\n",
            "1\n",
            "3\n",
            "214358881\n"
          ]
        }
      ]
    },
    {
      "cell_type": "code",
      "source": [
        "# 1. To get index numbers of the letters Y AND E\n",
        "POPSTAR = \"DIZZY DRAKE\"\n",
        "\n",
        "POPSTAR = \"DIZZY DRAKE\"\n",
        "y_index = POPSTAR.index('Y') - len(POPSTAR)  # For Y\n",
        "i_index = POPSTAR.index('I') - len(POPSTAR)  # For I\n",
        "print(\"Index of Y:\", y_index, \"Index of I:\", i_index)\n"
      ],
      "metadata": {
        "colab": {
          "base_uri": "https://localhost:8080/"
        },
        "id": "RNDjnGwrGAoc",
        "outputId": "29d81a9d-4994-48f0-ecbd-298c6b05f56c"
      },
      "execution_count": null,
      "outputs": [
        {
          "output_type": "stream",
          "name": "stdout",
          "text": [
            "Index of Y: -7 Index of I: -10\n"
          ]
        }
      ]
    },
    {
      "cell_type": "code",
      "source": [
        "# 1.To get the character at index 3:\n",
        "POPSTAR[3]\n"
      ],
      "metadata": {
        "colab": {
          "base_uri": "https://localhost:8080/",
          "height": 35
        },
        "id": "qGSFKhTDQ3Zz",
        "outputId": "2e7acde6-790d-4ae0-8f03-61e5f4613d88"
      },
      "execution_count": null,
      "outputs": [
        {
          "output_type": "execute_result",
          "data": {
            "text/plain": [
              "'Z'"
            ],
            "application/vnd.google.colaboratory.intrinsic+json": {
              "type": "string"
            }
          },
          "metadata": {},
          "execution_count": 14
        }
      ]
    },
    {
      "cell_type": "code",
      "source": [
        "# To get the character at index 9 (which is 'K'):\n",
        "POPSTAR[9]"
      ],
      "metadata": {
        "colab": {
          "base_uri": "https://localhost:8080/",
          "height": 35
        },
        "id": "_TH0W_CTRKg7",
        "outputId": "31c9f50e-ca22-49bf-b1a7-6ad7b16e4c1c"
      },
      "execution_count": null,
      "outputs": [
        {
          "output_type": "execute_result",
          "data": {
            "text/plain": [
              "'K'"
            ],
            "application/vnd.google.colaboratory.intrinsic+json": {
              "type": "string"
            }
          },
          "metadata": {},
          "execution_count": 15
        }
      ]
    },
    {
      "cell_type": "code",
      "source": [
        "# To extract the substring from index 0 to 5:\n",
        "POPSTAR[6:]\n"
      ],
      "metadata": {
        "colab": {
          "base_uri": "https://localhost:8080/",
          "height": 35
        },
        "id": "YDFd1iaKSnaD",
        "outputId": "ddd32a47-2028-405e-ded9-79e993322b76"
      },
      "execution_count": null,
      "outputs": [
        {
          "output_type": "execute_result",
          "data": {
            "text/plain": [
              "'DRAKE'"
            ],
            "application/vnd.google.colaboratory.intrinsic+json": {
              "type": "string"
            }
          },
          "metadata": {},
          "execution_count": 16
        }
      ]
    },
    {
      "cell_type": "code",
      "source": [],
      "metadata": {
        "id": "LPUmdsiCSZCE"
      },
      "execution_count": null,
      "outputs": []
    },
    {
      "cell_type": "markdown",
      "source": [],
      "metadata": {
        "id": "NiB_hjjXSEWL"
      }
    },
    {
      "cell_type": "markdown",
      "source": [],
      "metadata": {
        "id": "jjWSG1GsRAET"
      }
    },
    {
      "cell_type": "code",
      "source": [],
      "metadata": {
        "id": "tdk8YuY9RjiK"
      },
      "execution_count": null,
      "outputs": []
    },
    {
      "cell_type": "code",
      "source": [
        " POPSTAR[3]\n"
      ],
      "metadata": {
        "colab": {
          "base_uri": "https://localhost:8080/",
          "height": 35
        },
        "id": "AoNw0Hv9RqTN",
        "outputId": "c7a2ff0e-6633-46c2-f3cd-0b6d8989e3f6"
      },
      "execution_count": null,
      "outputs": [
        {
          "output_type": "execute_result",
          "data": {
            "text/plain": [
              "'Z'"
            ],
            "application/vnd.google.colaboratory.intrinsic+json": {
              "type": "string"
            }
          },
          "metadata": {},
          "execution_count": 13
        }
      ]
    },
    {
      "cell_type": "code",
      "source": [
        "SUCCESS = \"MAMBA MENTALITY\"\n",
        "SUCCESS = \"MAMBA MENTALITY\"\n",
        "print(SUCCESS[::2])     # Output: MMAMNLT\n",
        "print(SUCCESS[0:10:2])  # Output: MMAMN\n",
        "print(SUCCESS[2:5:2])   # Output: MB\n",
        "print(SUCCESS[9:11])    # Output: NL\n",
        "print(SUCCESS[4:11:2])  # Output: A TT\n"
      ],
      "metadata": {
        "colab": {
          "base_uri": "https://localhost:8080/"
        },
        "id": "YFb3aGMrJnhp",
        "outputId": "f4c0b1c4-b133-490a-b2de-49f0ce68dc8d"
      },
      "execution_count": null,
      "outputs": [
        {
          "output_type": "stream",
          "name": "stdout",
          "text": [
            "MMAMNAIY\n",
            "MMAMN\n",
            "MA\n",
            "TA\n",
            "AMNA\n"
          ]
        }
      ]
    },
    {
      "cell_type": "markdown",
      "source": [
        "# Operator Precedence"
      ],
      "metadata": {
        "id": "m0yjZH8koRnp"
      }
    },
    {
      "cell_type": "code",
      "source": [
        "a = (13-2)*5\n",
        "print(a)"
      ],
      "metadata": {
        "id": "zDrXjNeSoXvW",
        "colab": {
          "base_uri": "https://localhost:8080/"
        },
        "outputId": "f1dfe4b4-31dc-4eee-ffed-70f416b525d7"
      },
      "execution_count": null,
      "outputs": [
        {
          "output_type": "stream",
          "name": "stdout",
          "text": [
            "55\n"
          ]
        }
      ]
    },
    {
      "cell_type": "markdown",
      "source": [
        "# Comparison operators"
      ],
      "metadata": {
        "id": "O0ydzj8JoscN"
      }
    },
    {
      "cell_type": "code",
      "source": [
        "#a = 5\n",
        "a = 3\n",
        "b = 3\n",
        "print(a>b)\n",
        "print(a<b)\n",
        "print(a==b)\n",
        "print(a!=b)"
      ],
      "metadata": {
        "id": "LhmPdXq4ovQM",
        "colab": {
          "base_uri": "https://localhost:8080/"
        },
        "outputId": "553a8184-c5e8-42c3-b5d2-f69dba62a2d4"
      },
      "execution_count": null,
      "outputs": [
        {
          "output_type": "stream",
          "name": "stdout",
          "text": [
            "False\n",
            "False\n",
            "True\n",
            "False\n"
          ]
        }
      ]
    },
    {
      "cell_type": "markdown",
      "source": [
        "# Logical Operators"
      ],
      "metadata": {
        "id": "DfR29KuH0Ptg"
      }
    },
    {
      "cell_type": "code",
      "source": [
        "a = 5\n",
        "b = 7\n",
        "c = 6\n",
        "print(a<b and a<c)\n",
        "print(a>b and a<c)\n",
        "print(a>b or a<c)\n",
        "print(a>b or a>c)"
      ],
      "metadata": {
        "id": "WEZaOc1GCkuE",
        "colab": {
          "base_uri": "https://localhost:8080/"
        },
        "outputId": "6e943b1f-8de9-4ad7-a09a-13a778073aa4"
      },
      "execution_count": null,
      "outputs": [
        {
          "output_type": "stream",
          "name": "stdout",
          "text": [
            "True\n",
            "False\n",
            "True\n",
            "False\n"
          ]
        }
      ]
    },
    {
      "cell_type": "markdown",
      "source": [
        "# If statements"
      ],
      "metadata": {
        "id": "XtKRofd1Dq6s"
      }
    },
    {
      "cell_type": "code",
      "source": [
        "a = 5\n",
        "b = 10\n",
        "c = 6\n",
        "if (a>=b) and (a>=c):\n",
        "  print(\"A is the largest\")\n",
        "  print(a+10)\n",
        "elif (b>=a) and (b>=c):\n",
        "  print(b+10)\n",
        "else:\n",
        "  print(\"C is the largest\")\n",
        "print(max(a,b,c))"
      ],
      "metadata": {
        "id": "nmhkoBQ3Dtm0",
        "colab": {
          "base_uri": "https://localhost:8080/"
        },
        "outputId": "d2c94f86-b478-4c9c-d2da-ba8f9a3a5263"
      },
      "execution_count": null,
      "outputs": [
        {
          "output_type": "stream",
          "name": "stdout",
          "text": [
            "20\n",
            "10\n"
          ]
        }
      ]
    },
    {
      "cell_type": "markdown",
      "source": [
        "# Activity"
      ],
      "metadata": {
        "id": "4DM0LfLsF9Ej"
      }
    },
    {
      "cell_type": "code",
      "source": [
        "grade = int(input(\"Please enter your Marks (0-100) here: \"))\n",
        "if (grade>90): #91 - 100\n",
        "  print(\"A Grade\")\n",
        "elif ((grade<=90) and (grade>70)): #71 - 90\n",
        "  print(\"B Grade\")\n",
        "elif ((grade<=70) and (grade>50)): #51 - 70\n",
        "  print(\"C Grade\")\n",
        "else: # 0 - 50\n",
        "  print(\"F Grade\")\n",
        "type(grade)"
      ],
      "metadata": {
        "id": "EdWw_9xPF_cn",
        "colab": {
          "base_uri": "https://localhost:8080/"
        },
        "outputId": "462ec0b2-bfbd-4512-b345-4d68827fcacf"
      },
      "execution_count": null,
      "outputs": [
        {
          "output_type": "stream",
          "name": "stdout",
          "text": [
            "Please enter your Marks (0-100) here: 44\n",
            "F Grade\n"
          ]
        },
        {
          "output_type": "execute_result",
          "data": {
            "text/plain": [
              "int"
            ]
          },
          "metadata": {},
          "execution_count": 36
        }
      ]
    },
    {
      "cell_type": "markdown",
      "source": [
        "# Loops"
      ],
      "metadata": {
        "id": "oZksje1-I7kf"
      }
    },
    {
      "cell_type": "code",
      "source": [
        "a = [1,2,3,\"Ishan\"]\n",
        "for i in a:\n",
        "  print(i)\n",
        "print(\"    \")\n",
        "for i in range (1,11,3):\n",
        "  print(i)\n",
        "print(\"    \")\n",
        "i = 1\n",
        "while i<7:\n",
        "  print(i)\n",
        "  i+=1 #i = i + 1"
      ],
      "metadata": {
        "id": "2UuJqiSrI9J-",
        "colab": {
          "base_uri": "https://localhost:8080/"
        },
        "outputId": "10ee1fb6-9cfc-4f62-eb9c-cde1ef9ca178"
      },
      "execution_count": null,
      "outputs": [
        {
          "output_type": "stream",
          "name": "stdout",
          "text": [
            "1\n",
            "2\n",
            "3\n",
            "Ishan\n",
            "    \n",
            "1\n",
            "4\n",
            "7\n",
            "10\n",
            "    \n",
            "1\n",
            "2\n",
            "3\n",
            "4\n",
            "5\n",
            "6\n"
          ]
        }
      ]
    },
    {
      "cell_type": "markdown",
      "source": [
        "# Lists"
      ],
      "metadata": {
        "id": "WZ2RW9Z1LU-q"
      }
    },
    {
      "cell_type": "code",
      "source": [
        "a = [1,2,3,4,\"Ishan\"]\n",
        "print(a[4])\n",
        "print(a[-2])\n",
        "a.append(\"Jay\") #adds \"Jay\" string to the end of list\n",
        "print(a)\n",
        "a.insert(0, -1) #insers value at specific index\n",
        "print(a)\n",
        "a.remove(\"Ishan\") #removes 2 int from the list\n",
        "print(a)\n",
        "a.pop() #removes last entry in list\n",
        "print(a.index(3)) #returns the index of string \"Ishan\"\n",
        "b = a.copy() #copies the list a to new variable b\n",
        "print(b)"
      ],
      "metadata": {
        "id": "GGW21T9GLZe3",
        "colab": {
          "base_uri": "https://localhost:8080/"
        },
        "outputId": "5e45ae17-6059-4526-f698-b1e010e10118"
      },
      "execution_count": null,
      "outputs": [
        {
          "output_type": "stream",
          "name": "stdout",
          "text": [
            "Ishan\n",
            "4\n",
            "[1, 2, 3, 4, 'Ishan', 'Jay']\n",
            "[-1, 1, 2, 3, 4, 'Ishan', 'Jay']\n",
            "[-1, 1, 2, 3, 4, 'Jay']\n",
            "3\n",
            "[-1, 1, 2, 3, 4]\n"
          ]
        }
      ]
    },
    {
      "cell_type": "markdown",
      "source": [
        "# Tuples"
      ],
      "metadata": {
        "id": "ewzfrx04N_Im"
      }
    },
    {
      "cell_type": "code",
      "source": [
        "values = (1, 2, 3)\n",
        "x, y, z = values\n",
        "print(f\"X = {x},Y = {y},Z = {z}\")"
      ],
      "metadata": {
        "id": "HmzxK7zVNVTP",
        "colab": {
          "base_uri": "https://localhost:8080/"
        },
        "outputId": "e3d1abce-0f7a-4852-975d-ac858491487b"
      },
      "execution_count": null,
      "outputs": [
        {
          "output_type": "stream",
          "name": "stdout",
          "text": [
            "X = 1,Y = 2,Z = 3\n"
          ]
        }
      ]
    },
    {
      "cell_type": "markdown",
      "source": [
        "# Dictionaries"
      ],
      "metadata": {
        "id": "swwVH7NdOQd9"
      }
    },
    {
      "cell_type": "code",
      "source": [
        "d = {\"Central_A\": [\"Priya\",1], \"Central_B\": \"Ishan\"}\n",
        "print(f'Instructor at Central A is {d[\"Central_A\"]}''')\n",
        "print(f'''Instructor at Central B is {d[\"Central_B\"]}''')\n",
        "d[\"Central_A\"]"
      ],
      "metadata": {
        "id": "xvDQ3W7kOUR4",
        "colab": {
          "base_uri": "https://localhost:8080/"
        },
        "outputId": "b147f499-cf40-43fb-ae0e-6b5f560f17db"
      },
      "execution_count": null,
      "outputs": [
        {
          "output_type": "stream",
          "name": "stdout",
          "text": [
            "Instructor at Central A is ['Priya', 1]\n",
            "Instructor at Central B is Ishan\n"
          ]
        },
        {
          "output_type": "execute_result",
          "data": {
            "text/plain": [
              "['Priya', 1]"
            ]
          },
          "metadata": {},
          "execution_count": 35
        }
      ]
    },
    {
      "cell_type": "markdown",
      "source": [
        "# Functions"
      ],
      "metadata": {
        "id": "mai20wtRQeaM"
      }
    },
    {
      "cell_type": "code",
      "source": [
        "def marks (grade):\n",
        "  if (grade>90):\n",
        "    print(\"A Grade\")\n",
        "  elif ((grade<=90) and (grade>70)):\n",
        "    print(\"B Grade\")\n",
        "  elif ((grade<=70) and (grade>50)):\n",
        "    print(\"C Grade\")\n",
        "  else:\n",
        "    print(\"F Grade\")\n",
        "\n",
        "\n",
        "d = {\"Ishan\": 70, \"Daria\": 91, \"Brandon\": 50}\n",
        "a = list(d.values())\n",
        "print(a)\n",
        "for i in a:\n",
        "  marks(i)"
      ],
      "metadata": {
        "id": "CQLJ-t4fQgwi",
        "colab": {
          "base_uri": "https://localhost:8080/"
        },
        "outputId": "77a96949-ab03-4dbb-c0cd-bf291596337c"
      },
      "execution_count": null,
      "outputs": [
        {
          "output_type": "stream",
          "name": "stdout",
          "text": [
            "[70, 91, 50]\n",
            "C Grade\n",
            "A Grade\n",
            "F Grade\n"
          ]
        }
      ]
    }
  ]
}